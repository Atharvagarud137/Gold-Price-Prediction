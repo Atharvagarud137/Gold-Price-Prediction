{
 "cells": [
  {
   "cell_type": "markdown",
   "metadata": {
    "id": "82nb3gRNarYq"
   },
   "source": [
    "#Gold Price Prediction\n",
    "The aim of this project is to predict the price of gold using the previous price range data of gold. Here, Random Forest Regression Model is used for training the agent."
   ]
  },
  {
   "cell_type": "markdown",
   "metadata": {
    "id": "UrycjXJ0cifw"
   },
   "source": [
    "####importing required libraries"
   ]
  },
  {
   "cell_type": "code",
   "execution_count": 1,
   "metadata": {
    "id": "1oM57ncxaKJi"
   },
   "outputs": [],
   "source": [
    "import numpy as np      #Useful for making NumPy arrays\n",
    "import pandas as pd     #Useful for creating DataFrame\n",
    "\n",
    "#Following libraries will bi used for plotting graphs\n",
    "import matplotlib.pyplot as plt\n",
    "import seaborn as sns\n",
    "\n",
    "#Following library will help us to split data into training set and testing set\n",
    "from sklearn.model_selection import train_test_split\n",
    "\n",
    "#Importing random forest regression model\n",
    "from sklearn.ensemble import RandomForestRegressor\n",
    "from sklearn import metrics     #For evaluating the performance of the model"
   ]
  },
  {
   "cell_type": "markdown",
   "metadata": {
    "id": "2Zkkzi0qcmod"
   },
   "source": [
    "###Data Collection and Processing"
   ]
  },
  {
   "cell_type": "code",
   "execution_count": 2,
   "metadata": {
    "id": "jXAISTOTctrn"
   },
   "outputs": [],
   "source": [
    "#Loading the dataset \n",
    "gold_data = pd.read_csv ('gld_price_data.csv')"
   ]
  },
  {
   "cell_type": "code",
   "execution_count": 3,
   "metadata": {
    "colab": {
     "base_uri": "https://localhost:8080/",
     "height": 206
    },
    "id": "7PFEqKuTc-sp",
    "outputId": "5d02dd8b-3e46-4aeb-e669-ac2f0f62dd6f"
   },
   "outputs": [
    {
     "data": {
      "text/html": [
       "<div>\n",
       "<style scoped>\n",
       "    .dataframe tbody tr th:only-of-type {\n",
       "        vertical-align: middle;\n",
       "    }\n",
       "\n",
       "    .dataframe tbody tr th {\n",
       "        vertical-align: top;\n",
       "    }\n",
       "\n",
       "    .dataframe thead th {\n",
       "        text-align: right;\n",
       "    }\n",
       "</style>\n",
       "<table border=\"1\" class=\"dataframe\">\n",
       "  <thead>\n",
       "    <tr style=\"text-align: right;\">\n",
       "      <th></th>\n",
       "      <th>Date</th>\n",
       "      <th>SPX</th>\n",
       "      <th>GLD</th>\n",
       "      <th>USO</th>\n",
       "      <th>SLV</th>\n",
       "      <th>EUR/USD</th>\n",
       "    </tr>\n",
       "  </thead>\n",
       "  <tbody>\n",
       "    <tr>\n",
       "      <th>0</th>\n",
       "      <td>1/2/2008</td>\n",
       "      <td>1447.160034</td>\n",
       "      <td>84.860001</td>\n",
       "      <td>78.470001</td>\n",
       "      <td>15.180</td>\n",
       "      <td>1.471692</td>\n",
       "    </tr>\n",
       "    <tr>\n",
       "      <th>1</th>\n",
       "      <td>1/3/2008</td>\n",
       "      <td>1447.160034</td>\n",
       "      <td>85.570000</td>\n",
       "      <td>78.370003</td>\n",
       "      <td>15.285</td>\n",
       "      <td>1.474491</td>\n",
       "    </tr>\n",
       "    <tr>\n",
       "      <th>2</th>\n",
       "      <td>1/4/2008</td>\n",
       "      <td>1411.630005</td>\n",
       "      <td>85.129997</td>\n",
       "      <td>77.309998</td>\n",
       "      <td>15.167</td>\n",
       "      <td>1.475492</td>\n",
       "    </tr>\n",
       "    <tr>\n",
       "      <th>3</th>\n",
       "      <td>1/7/2008</td>\n",
       "      <td>1416.180054</td>\n",
       "      <td>84.769997</td>\n",
       "      <td>75.500000</td>\n",
       "      <td>15.053</td>\n",
       "      <td>1.468299</td>\n",
       "    </tr>\n",
       "    <tr>\n",
       "      <th>4</th>\n",
       "      <td>1/8/2008</td>\n",
       "      <td>1390.189941</td>\n",
       "      <td>86.779999</td>\n",
       "      <td>76.059998</td>\n",
       "      <td>15.590</td>\n",
       "      <td>1.557099</td>\n",
       "    </tr>\n",
       "  </tbody>\n",
       "</table>\n",
       "</div>"
      ],
      "text/plain": [
       "       Date          SPX        GLD        USO     SLV   EUR/USD\n",
       "0  1/2/2008  1447.160034  84.860001  78.470001  15.180  1.471692\n",
       "1  1/3/2008  1447.160034  85.570000  78.370003  15.285  1.474491\n",
       "2  1/4/2008  1411.630005  85.129997  77.309998  15.167  1.475492\n",
       "3  1/7/2008  1416.180054  84.769997  75.500000  15.053  1.468299\n",
       "4  1/8/2008  1390.189941  86.779999  76.059998  15.590  1.557099"
      ]
     },
     "execution_count": 3,
     "metadata": {},
     "output_type": "execute_result"
    }
   ],
   "source": [
    "#Printing the first 5 rows\n",
    "gold_data.head()"
   ]
  },
  {
   "cell_type": "markdown",
   "metadata": {
    "id": "p77b32EPdZLf"
   },
   "source": [
    "Note: 'spx' is also called 'csmp index'. It is the capitalization index of 500 companies which are publicly traded. So, it is one of the stocks that is available.\n",
    "'gld' represents 'gold price' which will be predicted by the agent implemented in this project.\n",
    "'uso' represents united states oil price.\n",
    "'slv' represents silver price.\n",
    "'eur/usd' represents currency pair. eg:- '1.47' means that 1 euro equals 1.47 usd."
   ]
  },
  {
   "cell_type": "markdown",
   "metadata": {
    "id": "Uh0aLjoAeczQ"
   },
   "source": [
    "In this project, the machine learning agent will be trained on the stock prices, currency pair, silver price and spx to predict the gold price. Note that there will be no forecasting done by the agent.   "
   ]
  },
  {
   "cell_type": "code",
   "execution_count": 4,
   "metadata": {
    "colab": {
     "base_uri": "https://localhost:8080/",
     "height": 206
    },
    "id": "CL7Y4TemdKqR",
    "outputId": "792f3ce8-2ee5-4895-e01f-81cee8a9d7cc"
   },
   "outputs": [
    {
     "data": {
      "text/html": [
       "<div>\n",
       "<style scoped>\n",
       "    .dataframe tbody tr th:only-of-type {\n",
       "        vertical-align: middle;\n",
       "    }\n",
       "\n",
       "    .dataframe tbody tr th {\n",
       "        vertical-align: top;\n",
       "    }\n",
       "\n",
       "    .dataframe thead th {\n",
       "        text-align: right;\n",
       "    }\n",
       "</style>\n",
       "<table border=\"1\" class=\"dataframe\">\n",
       "  <thead>\n",
       "    <tr style=\"text-align: right;\">\n",
       "      <th></th>\n",
       "      <th>Date</th>\n",
       "      <th>SPX</th>\n",
       "      <th>GLD</th>\n",
       "      <th>USO</th>\n",
       "      <th>SLV</th>\n",
       "      <th>EUR/USD</th>\n",
       "    </tr>\n",
       "  </thead>\n",
       "  <tbody>\n",
       "    <tr>\n",
       "      <th>2285</th>\n",
       "      <td>5/8/2018</td>\n",
       "      <td>2671.919922</td>\n",
       "      <td>124.589996</td>\n",
       "      <td>14.0600</td>\n",
       "      <td>15.5100</td>\n",
       "      <td>1.186789</td>\n",
       "    </tr>\n",
       "    <tr>\n",
       "      <th>2286</th>\n",
       "      <td>5/9/2018</td>\n",
       "      <td>2697.790039</td>\n",
       "      <td>124.330002</td>\n",
       "      <td>14.3700</td>\n",
       "      <td>15.5300</td>\n",
       "      <td>1.184722</td>\n",
       "    </tr>\n",
       "    <tr>\n",
       "      <th>2287</th>\n",
       "      <td>5/10/2018</td>\n",
       "      <td>2723.070068</td>\n",
       "      <td>125.180000</td>\n",
       "      <td>14.4100</td>\n",
       "      <td>15.7400</td>\n",
       "      <td>1.191753</td>\n",
       "    </tr>\n",
       "    <tr>\n",
       "      <th>2288</th>\n",
       "      <td>5/14/2018</td>\n",
       "      <td>2730.129883</td>\n",
       "      <td>124.489998</td>\n",
       "      <td>14.3800</td>\n",
       "      <td>15.5600</td>\n",
       "      <td>1.193118</td>\n",
       "    </tr>\n",
       "    <tr>\n",
       "      <th>2289</th>\n",
       "      <td>5/16/2018</td>\n",
       "      <td>2725.780029</td>\n",
       "      <td>122.543800</td>\n",
       "      <td>14.4058</td>\n",
       "      <td>15.4542</td>\n",
       "      <td>1.182033</td>\n",
       "    </tr>\n",
       "  </tbody>\n",
       "</table>\n",
       "</div>"
      ],
      "text/plain": [
       "           Date          SPX         GLD      USO      SLV   EUR/USD\n",
       "2285   5/8/2018  2671.919922  124.589996  14.0600  15.5100  1.186789\n",
       "2286   5/9/2018  2697.790039  124.330002  14.3700  15.5300  1.184722\n",
       "2287  5/10/2018  2723.070068  125.180000  14.4100  15.7400  1.191753\n",
       "2288  5/14/2018  2730.129883  124.489998  14.3800  15.5600  1.193118\n",
       "2289  5/16/2018  2725.780029  122.543800  14.4058  15.4542  1.182033"
      ]
     },
     "execution_count": 4,
     "metadata": {},
     "output_type": "execute_result"
    }
   ],
   "source": [
    "#Printing the last 5 rows\n",
    "gold_data.tail()"
   ]
  },
  {
   "cell_type": "code",
   "execution_count": 5,
   "metadata": {
    "colab": {
     "base_uri": "https://localhost:8080/"
    },
    "id": "QNL8x0DpgKMl",
    "outputId": "73e700d8-cf8c-4b74-9940-8f0d2b379420"
   },
   "outputs": [
    {
     "data": {
      "text/plain": [
       "(2290, 6)"
      ]
     },
     "execution_count": 5,
     "metadata": {},
     "output_type": "execute_result"
    }
   ],
   "source": [
    "#Number of rows and columns\n",
    "gold_data.shape"
   ]
  },
  {
   "cell_type": "code",
   "execution_count": 6,
   "metadata": {
    "colab": {
     "base_uri": "https://localhost:8080/"
    },
    "id": "T9iS2EIUgUOT",
    "outputId": "f522dd69-03be-4d68-be81-54d20d40cf1f"
   },
   "outputs": [
    {
     "name": "stdout",
     "output_type": "stream",
     "text": [
      "<class 'pandas.core.frame.DataFrame'>\n",
      "RangeIndex: 2290 entries, 0 to 2289\n",
      "Data columns (total 6 columns):\n",
      " #   Column   Non-Null Count  Dtype  \n",
      "---  ------   --------------  -----  \n",
      " 0   Date     2290 non-null   object \n",
      " 1   SPX      2290 non-null   float64\n",
      " 2   GLD      2290 non-null   float64\n",
      " 3   USO      2290 non-null   float64\n",
      " 4   SLV      2290 non-null   float64\n",
      " 5   EUR/USD  2290 non-null   float64\n",
      "dtypes: float64(5), object(1)\n",
      "memory usage: 107.5+ KB\n"
     ]
    }
   ],
   "source": [
    "#Getting basic information about the data\n",
    "gold_data.info()"
   ]
  },
  {
   "cell_type": "code",
   "execution_count": 7,
   "metadata": {
    "colab": {
     "base_uri": "https://localhost:8080/"
    },
    "id": "aalz_nmygfBZ",
    "outputId": "e30cc017-08a8-4ce3-ebb0-cdf7fb5210ac"
   },
   "outputs": [
    {
     "data": {
      "text/plain": [
       "Date       0\n",
       "SPX        0\n",
       "GLD        0\n",
       "USO        0\n",
       "SLV        0\n",
       "EUR/USD    0\n",
       "dtype: int64"
      ]
     },
     "execution_count": 7,
     "metadata": {},
     "output_type": "execute_result"
    }
   ],
   "source": [
    "#Checking the number of missing values\n",
    "gold_data.isnull().sum()"
   ]
  },
  {
   "cell_type": "code",
   "execution_count": 8,
   "metadata": {
    "colab": {
     "base_uri": "https://localhost:8080/",
     "height": 300
    },
    "id": "e4-jkWUigrbd",
    "outputId": "b2ee882d-ea1c-4b01-a034-1b62e12633db"
   },
   "outputs": [
    {
     "data": {
      "text/html": [
       "<div>\n",
       "<style scoped>\n",
       "    .dataframe tbody tr th:only-of-type {\n",
       "        vertical-align: middle;\n",
       "    }\n",
       "\n",
       "    .dataframe tbody tr th {\n",
       "        vertical-align: top;\n",
       "    }\n",
       "\n",
       "    .dataframe thead th {\n",
       "        text-align: right;\n",
       "    }\n",
       "</style>\n",
       "<table border=\"1\" class=\"dataframe\">\n",
       "  <thead>\n",
       "    <tr style=\"text-align: right;\">\n",
       "      <th></th>\n",
       "      <th>SPX</th>\n",
       "      <th>GLD</th>\n",
       "      <th>USO</th>\n",
       "      <th>SLV</th>\n",
       "      <th>EUR/USD</th>\n",
       "    </tr>\n",
       "  </thead>\n",
       "  <tbody>\n",
       "    <tr>\n",
       "      <th>count</th>\n",
       "      <td>2290.000000</td>\n",
       "      <td>2290.000000</td>\n",
       "      <td>2290.000000</td>\n",
       "      <td>2290.000000</td>\n",
       "      <td>2290.000000</td>\n",
       "    </tr>\n",
       "    <tr>\n",
       "      <th>mean</th>\n",
       "      <td>1654.315776</td>\n",
       "      <td>122.732875</td>\n",
       "      <td>31.842221</td>\n",
       "      <td>20.084997</td>\n",
       "      <td>1.283653</td>\n",
       "    </tr>\n",
       "    <tr>\n",
       "      <th>std</th>\n",
       "      <td>519.111540</td>\n",
       "      <td>23.283346</td>\n",
       "      <td>19.523517</td>\n",
       "      <td>7.092566</td>\n",
       "      <td>0.131547</td>\n",
       "    </tr>\n",
       "    <tr>\n",
       "      <th>min</th>\n",
       "      <td>676.530029</td>\n",
       "      <td>70.000000</td>\n",
       "      <td>7.960000</td>\n",
       "      <td>8.850000</td>\n",
       "      <td>1.039047</td>\n",
       "    </tr>\n",
       "    <tr>\n",
       "      <th>25%</th>\n",
       "      <td>1239.874969</td>\n",
       "      <td>109.725000</td>\n",
       "      <td>14.380000</td>\n",
       "      <td>15.570000</td>\n",
       "      <td>1.171313</td>\n",
       "    </tr>\n",
       "    <tr>\n",
       "      <th>50%</th>\n",
       "      <td>1551.434998</td>\n",
       "      <td>120.580002</td>\n",
       "      <td>33.869999</td>\n",
       "      <td>17.268500</td>\n",
       "      <td>1.303297</td>\n",
       "    </tr>\n",
       "    <tr>\n",
       "      <th>75%</th>\n",
       "      <td>2073.010070</td>\n",
       "      <td>132.840004</td>\n",
       "      <td>37.827501</td>\n",
       "      <td>22.882500</td>\n",
       "      <td>1.369971</td>\n",
       "    </tr>\n",
       "    <tr>\n",
       "      <th>max</th>\n",
       "      <td>2872.870117</td>\n",
       "      <td>184.589996</td>\n",
       "      <td>117.480003</td>\n",
       "      <td>47.259998</td>\n",
       "      <td>1.598798</td>\n",
       "    </tr>\n",
       "  </tbody>\n",
       "</table>\n",
       "</div>"
      ],
      "text/plain": [
       "               SPX          GLD          USO          SLV      EUR/USD\n",
       "count  2290.000000  2290.000000  2290.000000  2290.000000  2290.000000\n",
       "mean   1654.315776   122.732875    31.842221    20.084997     1.283653\n",
       "std     519.111540    23.283346    19.523517     7.092566     0.131547\n",
       "min     676.530029    70.000000     7.960000     8.850000     1.039047\n",
       "25%    1239.874969   109.725000    14.380000    15.570000     1.171313\n",
       "50%    1551.434998   120.580002    33.869999    17.268500     1.303297\n",
       "75%    2073.010070   132.840004    37.827501    22.882500     1.369971\n",
       "max    2872.870117   184.589996   117.480003    47.259998     1.598798"
      ]
     },
     "execution_count": 8,
     "metadata": {},
     "output_type": "execute_result"
    }
   ],
   "source": [
    "#Getting statistical measures of the data\n",
    "gold_data.describe()"
   ]
  },
  {
   "cell_type": "markdown",
   "metadata": {
    "id": "ks6p4Wf7hATt"
   },
   "source": [
    "###Correlation\n",
    "There are two types of correlations\n",
    "1. Positive Correlation:- A positive correlation is a relationship between two variables that tend to move in the same direction. A positive correlation exists when one variable tends to decrease as the other variable decreases, or one variable tends to increase when the other increases.\n",
    "2. Negative Correlation:- A negative correlation is a relationship between two variables such that as the value of one variable increases, the other decreases."
   ]
  },
  {
   "cell_type": "code",
   "execution_count": 9,
   "metadata": {
    "id": "v6-1-gUKg43w"
   },
   "outputs": [],
   "source": [
    "correlation = gold_data.corr()"
   ]
  },
  {
   "cell_type": "code",
   "execution_count": 10,
   "metadata": {
    "colab": {
     "base_uri": "https://localhost:8080/",
     "height": 488
    },
    "id": "SoYuwsp3hsIP",
    "outputId": "b9b7dfb6-7b79-4493-9116-d9afe8c65913"
   },
   "outputs": [
    {
     "data": {
      "text/plain": [
       "<AxesSubplot:>"
      ]
     },
     "execution_count": 10,
     "metadata": {},
     "output_type": "execute_result"
    },
    {
     "data": {
      "image/png": "[encoded data removed]",
      "text/plain": [
       "<Figure size 576x576 with 2 Axes>"
      ]
     },
     "metadata": {
      "needs_background": "light"
     },
     "output_type": "display_data"
    }
   ],
   "source": [
    "#Constructing a Heat Map for better understanding the correaltion\n",
    "plt.figure(figsize=(8,8))\n",
    "sns.heatmap(correlation, cbar=True, square=True, fmt='.1f', annot=True, annot_kws={'size':8}, cmap='Blues')"
   ]
  },
  {
   "cell_type": "code",
   "execution_count": 11,
   "metadata": {
    "colab": {
     "base_uri": "https://localhost:8080/"
    },
    "id": "AFbFlPE5ih7-",
    "outputId": "c28fffca-8ffe-4b36-8f1a-c8e9a62e36ae"
   },
   "outputs": [
    {
     "name": "stdout",
     "output_type": "stream",
     "text": [
      "SPX        0.049345\n",
      "GLD        1.000000\n",
      "USO       -0.186360\n",
      "SLV        0.866632\n",
      "EUR/USD   -0.024375\n",
      "Name: GLD, dtype: float64\n"
     ]
    }
   ],
   "source": [
    "#Correlation values of GLD\n",
    "print(correlation['GLD'])"
   ]
  },
  {
   "cell_type": "code",
   "execution_count": 12,
   "metadata": {
    "colab": {
     "base_uri": "https://localhost:8080/",
     "height": 501
    },
    "id": "jcSoH2l3im0s",
    "outputId": "9291bd2e-e8e9-49d0-bf24-3c7e175577d0"
   },
   "outputs": [
    {
     "name": "stderr",
     "output_type": "stream",
     "text": [
      "C:\\ProgramData\\Anaconda3\\lib\\site-packages\\seaborn\\distributions.py:2619: FutureWarning: `distplot` is a deprecated function and will be removed in a future version. Please adapt your code to use either `displot` (a figure-level function with similar flexibility) or `histplot` (an axes-level function for histograms).\n",
      "  warnings.warn(msg, FutureWarning)\n"
     ]
    },
    {
     "data": {
      "text/plain": [
       "<AxesSubplot:xlabel='GLD', ylabel='Density'>"
      ]
     },
     "execution_count": 12,
     "metadata": {},
     "output_type": "execute_result"
    },
    {
     "data": {
      "image/png": "[encoded data removed]",
      "text/plain": [
       "<Figure size 432x288 with 1 Axes>"
      ]
     },
     "metadata": {
      "needs_background": "light"
     },
     "output_type": "display_data"
    }
   ],
   "source": [
    "#Checking the distribution of gold price\n",
    "sns.distplot(gold_data['GLD'], color='red')"
   ]
  },
  {
   "cell_type": "markdown",
   "metadata": {
    "id": "cstJoNLQjG6d"
   },
   "source": [
    "###Splitting the Features and Target\n",
    "Target:- Gold Price\n",
    "Features:- Other stock prices"
   ]
  },
  {
   "cell_type": "code",
   "execution_count": 13,
   "metadata": {
    "id": "zrvpfLW_i4FT"
   },
   "outputs": [],
   "source": [
    "X = gold_data.drop(['Date', 'GLD'], axis=1)   #Features\n",
    "Y = gold_data['GLD']    #Target"
   ]
  },
  {
   "cell_type": "code",
   "execution_count": 14,
   "metadata": {
    "colab": {
     "base_uri": "https://localhost:8080/"
    },
    "id": "_XmXOL65jjnC",
    "outputId": "19de62aa-dd0a-40a6-87d7-12e51d0b4918"
   },
   "outputs": [
    {
     "name": "stdout",
     "output_type": "stream",
     "text": [
      "              SPX        USO      SLV   EUR/USD\n",
      "0     1447.160034  78.470001  15.1800  1.471692\n",
      "1     1447.160034  78.370003  15.2850  1.474491\n",
      "2     1411.630005  77.309998  15.1670  1.475492\n",
      "3     1416.180054  75.500000  15.0530  1.468299\n",
      "4     1390.189941  76.059998  15.5900  1.557099\n",
      "...           ...        ...      ...       ...\n",
      "2285  2671.919922  14.060000  15.5100  1.186789\n",
      "2286  2697.790039  14.370000  15.5300  1.184722\n",
      "2287  2723.070068  14.410000  15.7400  1.191753\n",
      "2288  2730.129883  14.380000  15.5600  1.193118\n",
      "2289  2725.780029  14.405800  15.4542  1.182033\n",
      "\n",
      "[2290 rows x 4 columns]\n"
     ]
    }
   ],
   "source": [
    "print(X)"
   ]
  },
  {
   "cell_type": "code",
   "execution_count": 15,
   "metadata": {
    "colab": {
     "base_uri": "https://localhost:8080/"
    },
    "id": "vq6CDD4kjlIn",
    "outputId": "7bfa1cb4-9d69-49ca-c52e-e25d26fd9a7a"
   },
   "outputs": [
    {
     "name": "stdout",
     "output_type": "stream",
     "text": [
      "0        84.860001\n",
      "1        85.570000\n",
      "2        85.129997\n",
      "3        84.769997\n",
      "4        86.779999\n",
      "           ...    \n",
      "2285    124.589996\n",
      "2286    124.330002\n",
      "2287    125.180000\n",
      "2288    124.489998\n",
      "2289    122.543800\n",
      "Name: GLD, Length: 2290, dtype: float64\n"
     ]
    }
   ],
   "source": [
    "print(Y)"
   ]
  },
  {
   "cell_type": "markdown",
   "metadata": {
    "id": "G7aEHHg-jpaq"
   },
   "source": [
    "###Splitting into Training Data and Testing Data"
   ]
  },
  {
   "cell_type": "code",
   "execution_count": 16,
   "metadata": {
    "id": "a4es4rx2jmmm"
   },
   "outputs": [],
   "source": [
    "X_train, X_test, Y_train, Y_test = train_test_split(X, Y,test_size = 0.2, random_state = 2) "
   ]
  },
  {
   "cell_type": "markdown",
   "metadata": {
    "id": "-_m1kywrkJyh"
   },
   "source": [
    "Model used for Training:\n",
    "Random Forest Regressor:- A random forest is a meta estimator that fits a number of classifying decision trees on various sub-samples of the dataset and uses averaging to improve the predictive accuracy and control over-fitting. "
   ]
  },
  {
   "cell_type": "code",
   "execution_count": 17,
   "metadata": {
    "id": "GDTCGgaokGLu"
   },
   "outputs": [],
   "source": [
    "regressor = RandomForestRegressor(n_estimators=100)"
   ]
  },
  {
   "cell_type": "code",
   "execution_count": 18,
   "metadata": {
    "colab": {
     "base_uri": "https://localhost:8080/",
     "height": 74
    },
    "id": "nTqopLvakgc7",
    "outputId": "c183663f-224d-4e95-ba8f-c8f309557d05"
   },
   "outputs": [
    {
     "data": {
      "text/plain": [
       "RandomForestRegressor()"
      ]
     },
     "execution_count": 18,
     "metadata": {},
     "output_type": "execute_result"
    }
   ],
   "source": [
    "#Training the model\n",
    "regressor.fit(X_train, Y_train)"
   ]
  },
  {
   "cell_type": "markdown",
   "metadata": {
    "id": "sPI2UsJ1k4rI"
   },
   "source": [
    "###Model Evaluation"
   ]
  },
  {
   "cell_type": "code",
   "execution_count": 19,
   "metadata": {
    "id": "WpYxv6EFk0ZY"
   },
   "outputs": [],
   "source": [
    "#Prediction on test data\n",
    "test_data_prediction = regressor.predict(X_test)"
   ]
  },
  {
   "cell_type": "code",
   "execution_count": 20,
   "metadata": {
    "colab": {
     "base_uri": "https://localhost:8080/"
    },
    "id": "l-8hwr8QlFt6",
    "outputId": "7af2766f-401d-40ea-c571-c71e1a001c16"
   },
   "outputs": [
    {
     "name": "stdout",
     "output_type": "stream",
     "text": [
      "[168.62639926  82.29489956 115.84940012 127.58210087 120.8245014\n",
      " 154.82169753 150.30199883 126.12690069 117.42029881 125.91870103\n",
      " 116.672801   171.61500075 141.45429859 167.85969886 115.08250042\n",
      " 117.53630055 138.13820267 170.21610055 159.89050304 157.60759985\n",
      " 155.05799994 125.18519998 174.91230006 157.28950335 125.18450019\n",
      "  93.77569999  77.35710021 120.64649983 119.05639902 167.49079982\n",
      "  88.15800051 125.26200005  91.36830059 117.77450028 121.19679882\n",
      " 136.13039981 115.580601   115.13890045 148.65139982 107.21410089\n",
      " 104.71360266  87.18089792 126.53960013 118.07509989 153.47849931\n",
      " 119.53959987 108.2586     108.13169882  93.2930006  127.03439788\n",
      "  75.16220015 113.71509932 121.38689989 111.27599901 118.86369882\n",
      " 120.5886997  159.9433007  167.89190107 146.97549697  86.07069902\n",
      "  94.39760043  86.70439902  90.51830011 119.00110083 126.44790096\n",
      " 127.58500024 170.4561996  122.27439941 117.3681991   98.60470011\n",
      " 168.37960128 143.11519874 132.3144028  121.05240236 120.38969937\n",
      " 119.80280058 114.72000154 118.28380047 107.07730072 127.79189995\n",
      " 113.9256996  107.16779994 116.64900111 119.58679847  88.6958001\n",
      "  88.30829877 146.31290221 127.24910024 113.20510022 109.70869834\n",
      " 108.27909886  77.65929891 169.87760218 114.06919907 121.67099893\n",
      " 128.03280226 154.96019776  91.79279937 136.46950082 159.36720359\n",
      " 125.41750067 125.42610037 130.77650251 115.1116011  119.7827999\n",
      "  92.09699986 110.35989893 166.87419948 157.64189882 114.18619945\n",
      " 106.64870132  79.74199975 113.33850043 125.87210076 107.21499932\n",
      " 119.52000102 155.70290327 159.99089931 120.4221998  135.15120264\n",
      " 101.32160001 117.66869793 119.34480032 112.91690102 102.75849924\n",
      " 160.2277976   98.97770034 146.08699897 125.26810099 170.04179909\n",
      " 125.7461987  127.36479735 127.60420204 113.62199939 113.00670076\n",
      " 123.72899908 102.24719892  89.09080014 124.21419946 102.3746994\n",
      " 107.24049935 113.62790063 117.5670009   99.17759965 121.72550032\n",
      " 163.03989862  87.45589866 106.86400025 117.22370074 127.69450112\n",
      " 123.98130068  80.87629884 120.33960055 158.59109743  87.89589959\n",
      " 110.2150993  118.88339908 172.38809852 103.02119885 105.49620072\n",
      " 122.58810021 158.80529686  87.52019835  93.52200058 112.53650029\n",
      " 177.03570009 114.1925999  119.31660016  95.12280121 125.95080006\n",
      " 165.80000061 115.0214006  116.61480123  88.30299858 149.11190044\n",
      " 120.59359934  89.53779975 112.46889993 117.39100012 118.74290136\n",
      "  88.31619942  94.23089996 117.08030003 118.6857017  120.05460023\n",
      " 126.75939795 121.96179962 151.80590025 165.31410122 118.49979949\n",
      " 120.25780113 150.9267999  118.36199839 172.87429878 105.05579937\n",
      " 105.0206012  149.41970059 113.92500067 124.77900105 147.20089952\n",
      " 119.71450117 115.27290043 112.78689984 113.44070197 139.93570091\n",
      " 117.98469765 102.91200036 115.83690089 103.71780182  98.66280037\n",
      " 117.1532006   90.71460014  91.63520074 153.70769923 102.74779978\n",
      " 154.83930097 114.36460172 138.26420123  90.40199836 115.50139954\n",
      " 114.30419977 123.02520043 121.76710005 165.46600137  92.91989959\n",
      " 135.65010114 121.38439919 121.03910032 104.6589004  142.12650276\n",
      " 122.22119916 116.56850036 113.27640085 126.88339789 122.87439938\n",
      " 125.93959968 121.22830042  86.81099919 132.71650201 142.91520236\n",
      "  92.70819967 160.36949977 159.10040303 126.19159884 164.72449951\n",
      " 109.0138996  110.21540083 103.85789916  94.06650081 127.94090319\n",
      " 107.1133006  162.36290003 121.59880048 131.95730091 130.91970216\n",
      " 160.88909983  90.28189913 174.8246012  128.01900027 126.73799858\n",
      "  86.60809948 124.5904996  150.73089727  89.76380012 106.89610009\n",
      " 109.10240017  84.41249922 135.92209956 155.32980153 138.67680346\n",
      "  74.12600029 152.6507007  125.97960007 126.72750027 127.47279914\n",
      " 108.48329943 156.63330031 114.64980132 116.97770148 125.13619951\n",
      " 154.01820079 121.27669976 156.36379944  93.00250047 125.51650103\n",
      " 125.71040006  87.89960045  92.04789946 126.27929927 128.40370345\n",
      " 113.13430078 117.58559747 121.11989986 126.90099814 119.55730101\n",
      " 135.57990034  93.84939913 119.75790049 113.0128012   94.2511996\n",
      " 108.83230019  87.48899919 109.35579905  89.65199945  92.5248006\n",
      " 131.76040251 162.17959942  89.44939965 119.56740068 133.53430163\n",
      " 123.87840026 128.71370239 101.94079838  89.01169874 131.90420078\n",
      " 119.6367005  108.56540002 169.30770086 115.20380033  86.65879887\n",
      " 118.80320072  91.12239971 162.23520029 116.60180039 121.46479991\n",
      " 160.43879846 120.14219923 112.83669977 108.4427987  126.73350038\n",
      "  75.78980027 103.02959988 127.88890308 121.69549894  92.59880017\n",
      " 131.83540022 118.10120116 116.12919982 154.57620263 159.98740051\n",
      " 110.04719976 153.7574978  119.18900093 160.78610046 119.0482005\n",
      " 158.29139961 115.10079923 116.32240032 148.29109911 114.85840091\n",
      " 125.80019901 165.12209919 117.75110015 125.18329965 152.94780418\n",
      " 153.52340249 132.15589955 114.74850053 121.09280215 125.20300079\n",
      "  89.60650049 123.11370002 154.95700165 111.77860025 106.78730018\n",
      " 161.00740132 118.67089985 165.74549954 133.75040093 115.33609996\n",
      " 153.08369929 168.50479936 114.93380046 113.83950117 157.58029894\n",
      "  85.04859894 127.06740085 127.76100073 128.79930085 124.04620076\n",
      " 124.03100084  90.55510046 153.0761008   96.99810008 137.17229923\n",
      "  89.07179904 107.07490001 115.10490045 112.54970085 124.34419899\n",
      "  91.39799885 125.29150105 162.34049969 119.83989889 165.1596014\n",
      " 126.86919764 112.47570027 127.51049966  95.00729924  91.00340004\n",
      " 103.32419922 120.8833998   82.95669948 126.17679971 160.94410549\n",
      " 117.16990083 118.30719989 119.99309996 122.51679967 120.16840142\n",
      " 121.49509997 118.29050052 107.23460023 147.96429939 126.12099836\n",
      " 115.76160087  73.92980043 127.82330091 154.11250083 122.67520022\n",
      " 125.60430064  88.76199996 103.40839894 124.86700027 120.34850062\n",
      "  73.38360081 151.79630022 121.29339998 104.82319988  86.67749785\n",
      " 114.82139922 172.11259879 119.7781004  160.75739734 113.21599942\n",
      " 121.26600018 118.53490107  95.85139991 118.69819966 125.9318004\n",
      " 118.68349984  95.98770082 154.08650229 121.96949981 147.32840052\n",
      " 159.48160279 113.84089999 122.55839925 150.27699861 127.12810066\n",
      " 165.75150135 135.74739979 120.04879932 167.30659891 108.3094998\n",
      " 121.84039844 138.24340105 107.30769904]\n"
     ]
    }
   ],
   "source": [
    "print(test_data_prediction)"
   ]
  },
  {
   "cell_type": "code",
   "execution_count": 21,
   "metadata": {
    "colab": {
     "base_uri": "https://localhost:8080/"
    },
    "id": "YP6Wbs6OlILv",
    "outputId": "af78ec7b-bd61-4bd3-b3dd-203d6fcb87aa"
   },
   "outputs": [
    {
     "name": "stdout",
     "output_type": "stream",
     "text": [
      "R Squared error:  0.988817602627229\n"
     ]
    }
   ],
   "source": [
    "#R-Square error metric for evaluation\n",
    "error_score = metrics.r2_score(Y_test, test_data_prediction)\n",
    "print(\"R Squared error: \", error_score)"
   ]
  },
  {
   "cell_type": "markdown",
   "metadata": {
    "id": "hcEFCTkSmRWE"
   },
   "source": [
    "###Comparing actual Value and PRedicted values using a plot"
   ]
  },
  {
   "cell_type": "code",
   "execution_count": 22,
   "metadata": {
    "id": "qiILEYC3mJKX"
   },
   "outputs": [],
   "source": [
    "Y_test = list(Y_test)"
   ]
  },
  {
   "cell_type": "code",
   "execution_count": 23,
   "metadata": {
    "colab": {
     "base_uri": "https://localhost:8080/",
     "height": 295
    },
    "id": "BjQdHH52menS",
    "outputId": "9a55b679-4f4b-4e4c-aa78-b61d834d73d8"
   },
   "outputs": [
    {
     "data": {
      "image/png": "[encoded data removed]",
      "text/plain": [
       "<Figure size 432x288 with 1 Axes>"
      ]
     },
     "metadata": {
      "needs_background": "light"
     },
     "output_type": "display_data"
    }
   ],
   "source": [
    "plt.plot(Y_test, color='blue', label='Actual Value')\n",
    "plt.plot(test_data_prediction, color='green', label='Predicted Value')\n",
    "plt.title('Actual Price vs Predicted Price')\n",
    "plt.xlabel('No. of values')\n",
    "plt.ylabel('Gold Price')\n",
    "plt.legend()\n",
    "plt.show()"
   ]
  },
  {
   "cell_type": "code",
   "execution_count": null,
   "metadata": {
    "id": "DTfk5T3_nAbh"
   },
   "outputs": [],
   "source": []
  }
 ],
 "metadata": {
  "colab": {
   "provenance": []
  },
  "kernelspec": {
   "display_name": "Python 3 (ipykernel)",
   "language": "python",
   "name": "python3"
  },
  "language_info": {
   "codemirror_mode": {
    "name": "ipython",
    "version": 3
   },
   "file_extension": ".py",
   "mimetype": "text/x-python",
   "name": "python",
   "nbconvert_exporter": "python",
   "pygments_lexer": "ipython3",
   "version": "3.9.12"
  }
 },
 "nbformat": 4,
 "nbformat_minor": 1
}
